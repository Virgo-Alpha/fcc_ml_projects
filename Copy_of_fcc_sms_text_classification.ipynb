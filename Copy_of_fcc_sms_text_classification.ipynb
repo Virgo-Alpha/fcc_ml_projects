{
  "cells": [
    {
      "cell_type": "code",
      "execution_count": null,
      "metadata": {
        "id": "8RZOuS9LWQvv"
      },
      "outputs": [],
      "source": [
        "# import libraries\n",
        "try:\n",
        "  # %tensorflow_version only exists in Colab.\n",
        "  !pip install tf-nightly\n",
        "except Exception:\n",
        "  pass\n",
        "import tensorflow as tf\n",
        "import pandas as pd\n",
        "from tensorflow import keras\n",
        "!pip install tensorflow-datasets\n",
        "import tensorflow_datasets as tfds\n",
        "import numpy as np\n",
        "import matplotlib.pyplot as plt\n",
        "\n",
        "print(tf.__version__)"
      ]
    },
    {
      "cell_type": "code",
      "execution_count": null,
      "metadata": {
        "id": "lMHwYXHXCar3"
      },
      "outputs": [],
      "source": [
        "# get data files\n",
        "!wget https://cdn.freecodecamp.org/project-data/sms/train-data.tsv\n",
        "!wget https://cdn.freecodecamp.org/project-data/sms/valid-data.tsv\n",
        "\n",
        "train_file_path = \"train-data.tsv\"\n",
        "test_file_path = \"valid-data.tsv\""
      ]
    },
    {
      "cell_type": "code",
      "source": [
        "import tensorflow as tf\n",
        "# from tensorflow.keras.layers import StringLookup\n",
        "\n",
        "# Load data\n",
        "train_data = pd.read_csv(\"train-data.tsv\", sep='\\t')\n",
        "test_data = pd.read_csv(\"valid-data.tsv\", sep='\\t')\n",
        "\n",
        "train_labels = train_data.iloc[:, 0]\n",
        "train_features = train_data.iloc[:, 1]\n",
        "\n",
        "test_labels = test_data.iloc[:, 0]\n",
        "test_features = test_data.iloc[:, 1]\n",
        "\n",
        "# Use StringLookup to encode labels\n",
        "label_lookup = tf.keras.layers.StringLookup(vocabulary=['ham', 'spam'], num_oov_indices=0, mask_token=None)\n",
        "\n",
        "# Encode labels\n",
        "train_labels = label_lookup(train_labels)\n",
        "test_labels = label_lookup(test_labels)\n",
        "\n",
        "from keras.preprocessing.text import Tokenizer\n",
        "from keras.utils import pad_sequences\n",
        "\n",
        "max_len = 100  # Set a maximum length for the sequences\n",
        "trunc_type = 'post'  # Truncate sequences from the end\n",
        "oov_token = \"<OOV>\"  # Out of vocabulary token\n",
        "\n",
        "tokenizer = Tokenizer(oov_token=oov_token)\n",
        "tokenizer.fit_on_texts(train_features)\n",
        "\n",
        "# Convert text to sequences\n",
        "train_sequences = tokenizer.texts_to_sequences(train_features)\n",
        "test_sequences = tokenizer.texts_to_sequences(test_features)\n",
        "\n",
        "# Pad sequences to a uniform length\n",
        "train_padded = pad_sequences(train_sequences, maxlen=max_len, truncating=trunc_type)\n",
        "test_padded = pad_sequences(test_sequences, maxlen=max_len, truncating=trunc_type)"
      ],
      "metadata": {
        "id": "W7BAgZRDRzn7"
      },
      "execution_count": null,
      "outputs": []
    },
    {
      "cell_type": "code",
      "execution_count": null,
      "metadata": {
        "id": "zOMKywn4zReN"
      },
      "outputs": [],
      "source": [
        "# Define the model\n",
        "model = tf.keras.Sequential([\n",
        "    tf.keras.layers.Embedding(input_dim=len(tokenizer.word_index)+1, output_dim=16),\n",
        "    tf.keras.layers.GlobalAveragePooling1D(),\n",
        "    tf.keras.layers.Dense(36, activation='relu'),\n",
        "    tf.keras.layers.Dense(1, activation='sigmoid')\n",
        "])\n",
        "\n",
        "# Compile the model\n",
        "model.compile(loss='binary_crossentropy', optimizer='adam', metrics=['accuracy'])\n",
        "\n",
        "# Train the model\n",
        "model.fit(train_padded,\n",
        "          train_labels,\n",
        "          epochs=100,\n",
        "          validation_data=(test_padded, test_labels))"
      ]
    },
    {
      "cell_type": "code",
      "execution_count": null,
      "metadata": {
        "id": "J9tD9yACG6M9"
      },
      "outputs": [],
      "source": [
        "# function to predict messages based on model\n",
        "# (should return list containing prediction and label, ex. [0.008318834938108921, 'ham'])\n",
        "def predict_message(pred_text):\n",
        "  # Tokenize and pad the input text\n",
        "    pred_sequence = tokenizer.texts_to_sequences([pred_text])\n",
        "    pred_padded = pad_sequences(pred_sequence, maxlen=max_len, truncating=trunc_type)\n",
        "\n",
        "    # Make predictions\n",
        "    predictions = model.predict(pred_padded)[0][0]\n",
        "\n",
        "    # Return a list containing prediction and label\n",
        "    if predictions >= 0.5:\n",
        "        return [predictions.astype(int), 'spam']\n",
        "    else:\n",
        "        return [predictions.astype(int), 'ham']\n",
        "\n",
        "pred_text = \"how are you doing today?\"\n",
        "\n",
        "prediction = predict_message(pred_text)\n",
        "print(prediction)"
      ]
    },
    {
      "cell_type": "code",
      "execution_count": null,
      "metadata": {
        "id": "Dxotov85SjsC"
      },
      "outputs": [],
      "source": [
        "# Run this cell to test your function and model. Do not modify contents.\n",
        "def test_predictions():\n",
        "  test_messages = [\"how are you doing today\",\n",
        "                   \"sale today! to stop texts call 98912460324\",\n",
        "                   \"i dont want to go. can we try it a different day? available sat\",\n",
        "                   \"our new mobile video service is live. just install on your phone to start watching.\",\n",
        "                   \"you have won £1000 cash! call to claim your prize.\",\n",
        "                   \"i'll bring it tomorrow. don't forget the milk.\",\n",
        "                   \"wow, is your arm alright. that happened to me one time too\"\n",
        "                  ]\n",
        "\n",
        "  test_answers = [\"ham\", \"spam\", \"ham\", \"spam\", \"spam\", \"ham\", \"ham\"]\n",
        "  passed = True\n",
        "\n",
        "  for msg, ans in zip(test_messages, test_answers):\n",
        "    prediction = predict_message(msg)\n",
        "    if prediction[1] != ans:\n",
        "      print(prediction[1])\n",
        "      passed = False\n",
        "\n",
        "  if passed:\n",
        "    print(\"You passed the challenge. Great job!\")\n",
        "  else:\n",
        "    print(\"You haven't passed yet. Keep trying.\")\n",
        "\n",
        "test_predictions()\n"
      ]
    },
    {
      "cell_type": "code",
      "source": [],
      "metadata": {
        "id": "1mxGViWQfxZT"
      },
      "execution_count": null,
      "outputs": []
    }
  ],
  "metadata": {
    "colab": {
      "private_outputs": true,
      "provenance": []
    },
    "kernelspec": {
      "display_name": "Python 3",
      "name": "python3"
    },
    "language_info": {}
  },
  "nbformat": 4,
  "nbformat_minor": 0
}